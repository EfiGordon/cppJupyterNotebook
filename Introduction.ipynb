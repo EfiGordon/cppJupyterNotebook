{
 "cells": [
  {
   "cell_type": "markdown",
   "metadata": {},
   "source": [
    "# Intro\n",
    "\n",
    "my jupyter notebook for c++ learning, I'm following learncpp.com website by Alex . \n",
    "\n",
    "after that i will implement  some data structure and algorithms \n",
    "\n",
    "----\n",
    "c++ working here with xeus\n",
    "https://github.com/QuantStack/xeus-cling\n",
    "\n"
   ]
  },
  {
   "cell_type": "markdown",
   "metadata": {},
   "source": [
    "# Keywords\n",
    "* credit to : learncpp.com\n",
    "\n",
    "C++ reserves a set of 84 words (as of C++14) for its own use. These words are called keywords (or reserved words), and each of these keywords has a special meaning within the C++ language."
   ]
  },
  {
   "cell_type": "markdown",
   "metadata": {},
   "source": [
    "![title](img/1.png)"
   ]
  },
  {
   "cell_type": "markdown",
   "metadata": {},
   "source": [
    "Adding files to your project from the command line\n",
    "\n",
    "From the command line, you can create the additional file yourself, using your favorite editor, and give it a name. When you compile your program, you’ll need to include all of the relevant code files on the compile line. For example: “g++ main.cpp add.cpp -o main”, where main.cpp and add.cpp are the names of your code files, and main is the name of the output file."
   ]
  },
  {
   "cell_type": "markdown",
   "metadata": {},
   "source": []
  },
  {
   "cell_type": "code",
   "execution_count": 2,
   "metadata": {},
   "outputs": [
    {
     "ename": "SyntaxError",
     "evalue": "invalid syntax (<ipython-input-2-cc4efd91f393>, line 1)",
     "output_type": "error",
     "traceback": [
      "\u001b[0;36m  File \u001b[0;32m\"<ipython-input-2-cc4efd91f393>\"\u001b[0;36m, line \u001b[0;32m1\u001b[0m\n\u001b[0;31m    int x {4};\u001b[0m\n\u001b[0m        ^\u001b[0m\n\u001b[0;31mSyntaxError\u001b[0m\u001b[0;31m:\u001b[0m invalid syntax\n"
     ]
    }
   ],
   "source": [
    "int x {4};"
   ]
  },
  {
   "cell_type": "code",
   "execution_count": null,
   "metadata": {},
   "outputs": [],
   "source": [
    "x"
   ]
  },
  {
   "cell_type": "code",
   "execution_count": null,
   "metadata": {},
   "outputs": [],
   "source": [
    "int y(5);"
   ]
  },
  {
   "cell_type": "code",
   "execution_count": null,
   "metadata": {},
   "outputs": [],
   "source": [
    "y"
   ]
  },
  {
   "cell_type": "code",
   "execution_count": null,
   "metadata": {},
   "outputs": [],
   "source": [
    "y = 1;\n",
    "x= 2;"
   ]
  },
  {
   "cell_type": "code",
   "execution_count": null,
   "metadata": {},
   "outputs": [],
   "source": [
    "x,y"
   ]
  },
  {
   "cell_type": "code",
   "execution_count": 4,
   "metadata": {},
   "outputs": [],
   "source": [
    "#include <iostream>\n",
    "using namespace std;"
   ]
  },
  {
   "cell_type": "code",
   "execution_count": null,
   "metadata": {},
   "outputs": [],
   "source": [
    "cout<<x<<\",\"<<y;"
   ]
  },
  {
   "cell_type": "markdown",
   "metadata": {},
   "source": [
    "# BITWISE"
   ]
  },
  {
   "cell_type": "markdown",
   "metadata": {},
   "source": [
    "3 = 0011b\n",
    "\n",
    "3 << 1 = 0110 = 6\n",
    "\n",
    "3 << 2 = 1100 = 12\n",
    "\n",
    "3 << 3 = 1000 = 8"
   ]
  },
  {
   "cell_type": "code",
   "execution_count": null,
   "metadata": {},
   "outputs": [],
   "source": [
    "int x4 = 4;"
   ]
  },
  {
   "cell_type": "code",
   "execution_count": null,
   "metadata": {},
   "outputs": [],
   "source": [
    "x4 = x4<<1;\n",
    "//left sfift will be doing *2"
   ]
  },
  {
   "cell_type": "code",
   "execution_count": null,
   "metadata": {},
   "outputs": [],
   "source": [
    "cout<<x4; "
   ]
  },
  {
   "cell_type": "code",
   "execution_count": null,
   "metadata": {},
   "outputs": [],
   "source": [
    "x4 = x4>>1; //right sfift is /2"
   ]
  },
  {
   "cell_type": "code",
   "execution_count": null,
   "metadata": {},
   "outputs": [],
   "source": [
    "cout<<x4; "
   ]
  },
  {
   "cell_type": "markdown",
   "metadata": {},
   "source": [
    "# namespaces"
   ]
  },
  {
   "cell_type": "markdown",
   "metadata": {},
   "source": [
    "![title](img/2.png)"
   ]
  },
  {
   "cell_type": "code",
   "execution_count": null,
   "metadata": {},
   "outputs": [],
   "source": [
    "namespace Efi\n",
    "{\n",
    "    int wakeUpTime(int hour)\n",
    "    {\n",
    "        return hour-6;\n",
    "    }\n",
    "}"
   ]
  },
  {
   "cell_type": "code",
   "execution_count": null,
   "metadata": {},
   "outputs": [],
   "source": [
    "namespace Michal\n",
    "{\n",
    "    int wakeUpTime(int hour)\n",
    "    {\n",
    "        return hour-12;\n",
    "    }\n",
    "}"
   ]
  },
  {
   "cell_type": "code",
   "execution_count": null,
   "metadata": {},
   "outputs": [],
   "source": [
    "cout<<Efi::wakeUpTime(22)<<endl;\n",
    "cout<<Michal::wakeUpTime(22)<<endl;"
   ]
  },
  {
   "cell_type": "markdown",
   "metadata": {},
   "source": [
    "passing by value:\n",
    "* void foo(int y)\n",
    "\n",
    "passing by reference:\n",
    "* void addOne(int &y) \n"
   ]
  },
  {
   "cell_type": "code",
   "execution_count": null,
   "metadata": {},
   "outputs": [],
   "source": [
    "void foo(int &value)\n",
    "{\n",
    "    value = 6;\n",
    "}"
   ]
  },
  {
   "cell_type": "code",
   "execution_count": null,
   "metadata": {},
   "outputs": [],
   "source": [
    "int value = 5;\n",
    " \n",
    "    cout << \"value = \" << value << '\\n';\n",
    "    foo(value);\n",
    "    cout << \"value = \" << value << '\\n';"
   ]
  },
  {
   "cell_type": "code",
   "execution_count": null,
   "metadata": {},
   "outputs": [],
   "source": [
    "// a reference parameter cannot accept an argument that is a const l-value\n",
    "const int cnst = 4;\n",
    "foo(cnst);//error\n"
   ]
  },
  {
   "cell_type": "code",
   "execution_count": 7,
   "metadata": {},
   "outputs": [],
   "source": [
    "void printElements(int (&arr)[4])\n",
    "{\n",
    "  int length{ sizeof(arr) / sizeof(arr[0]) }; // we can now do this since the array won't decay\n",
    "  \n",
    "  for (int i{ 0 }; i < length; ++i)\n",
    "  {\n",
    "    std::cout << arr[i] << std::endl;\n",
    "  }\n",
    "}"
   ]
  },
  {
   "cell_type": "code",
   "execution_count": 8,
   "metadata": {},
   "outputs": [
    {
     "name": "stdout",
     "output_type": "stream",
     "text": [
      "99\n",
      "20\n",
      "14\n",
      "80\n"
     ]
    }
   ],
   "source": [
    "int arr[]{ 99, 20, 14, 80 };\n",
    "    \n",
    "    printElements(arr);"
   ]
  },
  {
   "cell_type": "code",
   "execution_count": 2,
   "metadata": {},
   "outputs": [],
   "source": [
    "void foo(int *&ptr) // pass pointer by reference\n",
    "{\n",
    "\tptr = nullptr; // this changes the actual ptr argument passed in, not a copy\n",
    "}"
   ]
  },
  {
   "cell_type": "code",
   "execution_count": 5,
   "metadata": {},
   "outputs": [
    {
     "name": "stdout",
     "output_type": "stream",
     "text": [
      "ptr is: non-null\n",
      "ptr is: null\n"
     ]
    },
    {
     "data": {
      "text/plain": [
       "@0x7f7d2ff8aee0"
      ]
     },
     "execution_count": 5,
     "metadata": {},
     "output_type": "execute_result"
    }
   ],
   "source": [
    "\tint xx = 5;\n",
    "\tint *ptr = &xx;\n",
    "\tstd::cout << \"ptr is: \" << (ptr ? \"non-null\" : \"null\") << '\\n'; // prints non-null\n",
    "\tfoo(ptr);\n",
    "\tstd::cout << \"ptr is: \" << (ptr ? \"non-null\" : \"null\") << '\\n'; // prints null"
   ]
  },
  {
   "cell_type": "markdown",
   "metadata": {},
   "source": [
    "Passing by adress (pointer)"
   ]
  },
  {
   "cell_type": "code",
   "execution_count": 9,
   "metadata": {},
   "outputs": [],
   "source": [
    "void foofoo(int *ptr)\n",
    "{\n",
    "    *ptr = 6;\n",
    "}\n",
    "\n"
   ]
  },
  {
   "cell_type": "code",
   "execution_count": 11,
   "metadata": {},
   "outputs": [
    {
     "name": "stdout",
     "output_type": "stream",
     "text": [
      "6"
     ]
    }
   ],
   "source": [
    "int vall=5;\n",
    "\n",
    "foofoo(&vall);\n",
    "\n",
    "cout<<vall;"
   ]
  },
  {
   "cell_type": "code",
   "execution_count": null,
   "metadata": {},
   "outputs": [],
   "source": []
  }
 ],
 "metadata": {
  "kernelspec": {
   "display_name": "C++17",
   "language": "C++17",
   "name": "xeus-cling-cpp17"
  },
  "language_info": {
   "codemirror_mode": "text/x-c++src",
   "file_extension": ".cpp",
   "mimetype": "text/x-c++src",
   "name": "c++",
   "version": "-std=c++17"
  }
 },
 "nbformat": 4,
 "nbformat_minor": 2
}
