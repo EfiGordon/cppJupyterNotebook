{
 "cells": [
  {
   "cell_type": "markdown",
   "metadata": {},
   "source": [
    "# By Value\n",
    "\n",
    "* When to use pass by value:\n",
    "\n",
    "When passing fundamental data type and enumerators, and the function does not need to change the argument.\n",
    "* When not to use pass by value:\n",
    "\n",
    "When passing arrays, structs, or classes."
   ]
  },
  {
   "cell_type": "code",
   "execution_count": 3,
   "metadata": {},
   "outputs": [],
   "source": [
    "#include <iostream>\n",
    "using namespace std;"
   ]
  },
  {
   "cell_type": "code",
   "execution_count": 2,
   "metadata": {},
   "outputs": [
    {
     "name": "stdout",
     "output_type": "stream",
     "text": [
      "5\n"
     ]
    }
   ],
   "source": [
    "void byValue(int x)\n",
    "{\n",
    "    x = -1;\n",
    "}\n",
    "\n",
    "int x1 = 5;\n",
    "byValue(x1);\n",
    "cout<<x1<<endl;"
   ]
  },
  {
   "cell_type": "markdown",
   "metadata": {},
   "source": [
    "# By Reference\n",
    "\n",
    "When an argument is passed by reference, a reference is created to the actual argument (which takes minimal time) and no copying of values takes place. This allows us to pass large structs and classes with a minimum performance penalty.\n",
    "However, this also opens us up to potential trouble. References allow the function to change the value of the argument, which is undesirable when we want an argument be read-only. If we know that a function should not change the value of an argument, but don’t want to pass by value, the best solution is to pass by const reference."
   ]
  },
  {
   "cell_type": "code",
   "execution_count": 3,
   "metadata": {},
   "outputs": [
    {
     "name": "stdout",
     "output_type": "stream",
     "text": [
      "11\n"
     ]
    }
   ],
   "source": [
    "void addOne(int &y) // y is a reference variable\n",
    "{\n",
    "    y = y + 1;\n",
    "}\n",
    "\n",
    "int x2 = 10;\n",
    "addOne(x2);\n",
    "cout<<x2<<endl;"
   ]
  },
  {
   "cell_type": "code",
   "execution_count": 4,
   "metadata": {},
   "outputs": [
    {
     "name": "stderr",
     "output_type": "stream",
     "text": [
      "\u001b[1minput_line_11:3:7: \u001b[0m\u001b[0;1;31merror: \u001b[0m\u001b[1mcannot assign to variable 'x' with const-qualified type 'const int &'\u001b[0m\n",
      "    x = 6;  // compile error: a const reference cannot have its value changed!\n",
      "\u001b[0;1;32m    ~ ^\n",
      "\u001b[0m\u001b[1minput_line_11:1:21: \u001b[0m\u001b[0;1;30mnote: \u001b[0mvariable 'x' declared const here\u001b[0m\n",
      "void foo(const int &x) // x is a const reference\n",
      "\u001b[0;1;32m         ~~~~~~~~~~~^\n",
      "\u001b[0m"
     ]
    },
    {
     "ename": "Interpreter Error",
     "evalue": "",
     "output_type": "error",
     "traceback": [
      "Interpreter Error: "
     ]
    }
   ],
   "source": [
    "void foo(const int &x) // x is a const reference\n",
    "{\n",
    "    x = 6;  // compile error: a const reference cannot have its value changed!\n",
    "}"
   ]
  },
  {
   "cell_type": "markdown",
   "metadata": {},
   "source": [
    "# By Address\n",
    "\n",
    "When you pass a pointer to a function by address, the pointer’s value (the address it points to) is copied from the argument to the function’s parameter. In other words, it’s passed by value! If you change the function parameter’s value, you are only changing a copy. Consequently, the original pointer argument will not be changed."
   ]
  },
  {
   "cell_type": "code",
   "execution_count": 5,
   "metadata": {},
   "outputs": [
    {
     "name": "stdout",
     "output_type": "stream",
     "text": [
      "55"
     ]
    }
   ],
   "source": [
    "void setToNull(int *tempPtr)\n",
    "{\n",
    "    // we're making tempPtr point at something else, not changing the value that tempPtr points to.\n",
    "    tempPtr = nullptr; // use 0 instead if not C++11\n",
    "}\n",
    " \n",
    "    // First we set ptr to the address of five, which means *ptr = 5\n",
    "    int five = 5;\n",
    "    int *ptr = &five;\n",
    "\t\n",
    "    // This will print 5\n",
    "    std::cout << *ptr;\n",
    " \n",
    "    // tempPtr will receive a copy of ptr\n",
    "    setToNull(ptr);\n",
    " \n",
    "    // ptr is still set to the address of five!\n",
    " \n",
    "    // This will print 5\n",
    "    if (ptr)\n",
    "        std::cout << *ptr;\n",
    "    else\n",
    "        std::cout << \" ptr is null\";"
   ]
  },
  {
   "cell_type": "markdown",
   "metadata": {},
   "source": [
    "As you can see, pass by address and pass by reference have almost identical advantages and disadvantages. Because pass by reference is generally safer than pass by address, pass by reference should be preferred in most cases.\n",
    "\n",
    "<b>Rule: Prefer pass by reference to pass by address whenever applicable.</b>"
   ]
  },
  {
   "cell_type": "markdown",
   "metadata": {},
   "source": [
    "# Returning Values"
   ]
  },
  {
   "cell_type": "markdown",
   "metadata": {},
   "source": [
    "<b>Return by address</b> is often used to return dynamically allocated memory to the caller:\n",
    "\n"
   ]
  },
  {
   "cell_type": "code",
   "execution_count": 6,
   "metadata": {},
   "outputs": [],
   "source": [
    "int* allocateArray(int size)\n",
    "{\n",
    "    return new int[size];\n",
    "}\n",
    " \n",
    "\n",
    "    int *array = allocateArray(25);\n",
    " \n",
    "    // do stuff with array\n",
    " \n",
    "    delete[] array;\n"
   ]
  },
  {
   "cell_type": "markdown",
   "metadata": {},
   "source": [
    "When to use return by address:\n",
    "\n",
    "When returning dynamically allocated memory\n",
    "When returning function arguments that were passed by address\n",
    "When not to use return by address:\n",
    "\n",
    "When returning variables that were declared inside the function (use return by value)\n",
    "When returning a large struct or class that was passed by reference (use return by reference)"
   ]
  },
  {
   "cell_type": "markdown",
   "metadata": {},
   "source": [
    "<b>return by reference</b>\n",
    "Return by reference is typically used to return arguments passed by reference to the function back to the caller. In the following example, we return (by reference) an element of an array that was passed to our function by reference:\n",
    "\n",
    "\n"
   ]
  },
  {
   "cell_type": "code",
   "execution_count": 14,
   "metadata": {},
   "outputs": [],
   "source": [
    "#include <array>\n",
    "\n"
   ]
  },
  {
   "cell_type": "code",
   "execution_count": 16,
   "metadata": {},
   "outputs": [],
   "source": [
    "int& getElement2(std::array<int, 25> &array, int index)\n",
    "{\n",
    "    // we know that array[index] will not be destroyed when we return to the caller (since the caller passed in the array in the first place!)\n",
    "    // so it's okay to return it by reference\n",
    "    return array[index];\n",
    "}"
   ]
  },
  {
   "cell_type": "code",
   "execution_count": 21,
   "metadata": {},
   "outputs": [],
   "source": [
    "std::array<int, 25> array4;\n",
    " "
   ]
  },
  {
   "cell_type": "code",
   "execution_count": 23,
   "metadata": {},
   "outputs": [
    {
     "name": "stdout",
     "output_type": "stream",
     "text": [
      "5\n"
     ]
    }
   ],
   "source": [
    "\n",
    "    // Set the element of array with index 10 to the value 5\n",
    "    getElement2(array4, 10) = 5;\n",
    "\t\n",
    "    std::cout << array4[10] << '\\n';"
   ]
  },
  {
   "cell_type": "markdown",
   "metadata": {},
   "source": [
    "## Default Parameter"
   ]
  },
  {
   "cell_type": "code",
   "execution_count": 2,
   "metadata": {},
   "outputs": [],
   "source": [
    "#include <iostream>\n",
    "void printSomething(int x=4,int y=10)\n",
    "{\n",
    "    std::cout<<x<<\" , \"<<y<<std::endl;\n",
    "}\n",
    "\n"
   ]
  },
  {
   "cell_type": "code",
   "execution_count": 3,
   "metadata": {},
   "outputs": [
    {
     "name": "stdout",
     "output_type": "stream",
     "text": [
      "1 , 1\n",
      "4 , 10\n"
     ]
    }
   ],
   "source": [
    "printSomething(1,1);\n",
    "printSomething();\n"
   ]
  },
  {
   "cell_type": "code",
   "execution_count": null,
   "metadata": {},
   "outputs": [],
   "source": []
  }
 ],
 "metadata": {
  "kernelspec": {
   "display_name": "C++17",
   "language": "C++17",
   "name": "xeus-cling-cpp17"
  },
  "language_info": {
   "codemirror_mode": "text/x-c++src",
   "file_extension": ".cpp",
   "mimetype": "text/x-c++src",
   "name": "c++",
   "version": "-std=c++17"
  }
 },
 "nbformat": 4,
 "nbformat_minor": 2
}
